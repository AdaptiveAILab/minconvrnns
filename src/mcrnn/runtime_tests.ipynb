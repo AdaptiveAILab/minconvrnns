{
 "cells": [
  {
   "cell_type": "code",
   "execution_count": null,
   "id": "e4323490-8046-43f4-8de8-32bd0c5f9414",
   "metadata": {
    "tags": []
   },
   "outputs": [],
   "source": [
    "import time\n",
    "import torch\n",
    "import torch.nn.functional as F\n",
    "from typing import Callable\n",
    "\n",
    "print(\"print cuda stuff\")\n",
    "print(torch.cuda.is_available(), torch.cuda.get_device_name(torch.cuda.current_device()))\n",
    "print()\n",
    "\n",
    "##############################################################\n",
    "# Define the methods\n",
    "@torch.no_grad()\n",
    "def compute_runtime(n_iters: int, f: Callable, *args, **kwargs) -> float:\n",
    "    assert torch.cuda.is_available()\n",
    "\n",
    "    torch.cuda.synchronize()\n",
    "    start = time.perf_counter()\n",
    "    for _ in range(n_iters):\n",
    "        _ = f(*args, **kwargs)\n",
    "\n",
    "    torch.cuda.synchronize()\n",
    "\n",
    "    duration = time.perf_counter() - start\n",
    "    print(f\"Computation took {duration * 1000:.2f} ms\")\n",
    "\n",
    "    return duration\n",
    "\n",
    "def log_hat_1(conv_f: torch.Tensor, conv_i: torch.Tensor):\n",
    "    log_f_hat = -F.softplus(conv_i - conv_f)\n",
    "    log_i_hat = -F.softplus((conv_f - conv_i))\n",
    "\n",
    "    return log_f_hat, log_i_hat\n",
    "\n",
    "def log_hat_2(conv_f: torch.Tensor, conv_i: torch.Tensor):\n",
    "    f_hat_2 = F.sigmoid(conv_f - conv_i)\n",
    "    log_f_hat_2 = f_hat_2.log()\n",
    "\n",
    "    log_i_hat_2 = F.sigmoid(conv_i - conv_f).log()\n",
    "    # log_i_hat_2 = (1. - f_hat_2).log()\n",
    "\n",
    "    return log_f_hat_2, log_i_hat_2\n",
    "\n",
    "#############################################################################\n",
    "\n",
    "# Generate random data\n",
    "B, C, H, W, L = 2, 10, 16, 16, 100\n",
    "conv_f = torch.rand(B, C, H, W, L)\n",
    "conv_i = torch.rand(B, C, H, W, L)\n",
    "\n",
    "\n",
    "# Check if the operations are equivalent\n",
    "log_f_hat, log_i_hat = log_hat_1(conv_f, conv_i)\n",
    "log_f_hat_2, log_i_hat_2 = log_hat_2(conv_f, conv_i)\n",
    "print(torch.allclose(log_f_hat, log_f_hat_2), torch.allclose(log_i_hat, log_i_hat_2))\n",
    "\n",
    "# Runtime analysis\n",
    "n_iters = 10_000\n",
    "compute_runtime(n_iters, log_hat_1, conv_f, conv_i)\n",
    "compute_runtime(n_iters, log_hat_2, conv_f, conv_i)"
   ]
  },
  {
   "cell_type": "code",
   "execution_count": null,
   "id": "e7cfab4a-73cd-4264-8210-ef6df9ee9b44",
   "metadata": {},
   "outputs": [],
   "source": []
  },
  {
   "cell_type": "code",
   "execution_count": null,
   "id": "9c118f19-cf2f-4a0d-8d10-9350d066facf",
   "metadata": {},
   "outputs": [],
   "source": []
  }
 ],
 "metadata": {
  "kernelspec": {
   "display_name": "Python 3.9 via SLURM 250422170413",
   "language": "python",
   "name": "jupyter-eg-kernel-slurm-py39-1ipf0ee10"
  },
  "language_info": {
   "codemirror_mode": {
    "name": "ipython",
    "version": 3
   },
   "file_extension": ".py",
   "mimetype": "text/x-python",
   "name": "python",
   "nbconvert_exporter": "python",
   "pygments_lexer": "ipython3",
   "version": "3.9.21"
  }
 },
 "nbformat": 4,
 "nbformat_minor": 5
}
